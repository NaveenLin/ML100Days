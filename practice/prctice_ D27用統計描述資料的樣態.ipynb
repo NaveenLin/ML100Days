{
 "cells": [
  {
   "cell_type": "code",
   "execution_count": 8,
   "metadata": {},
   "outputs": [],
   "source": [
    "import numpy as np\n",
    "import pandas as pd\n",
    "import matplotlib.pyplot as plt\n",
    "from scipy import stats\n",
    "import math \n",
    "import statistics as sta"
   ]
  },
  {
   "cell_type": "code",
   "execution_count": 4,
   "metadata": {},
   "outputs": [
    {
     "data": {
      "text/plain": [
       "[164,\n",
       " 176,\n",
       " 169,\n",
       " 169,\n",
       " 165,\n",
       " 175,\n",
       " 159,\n",
       " 151,\n",
       " 144,\n",
       " 160,\n",
       " 183,\n",
       " 165,\n",
       " 156,\n",
       " 170,\n",
       " 164,\n",
       " 173,\n",
       " 165,\n",
       " 163,\n",
       " 177,\n",
       " 171]"
      ]
     },
     "execution_count": 4,
     "metadata": {},
     "output_type": "execute_result"
    }
   ],
   "source": [
    "boys=[164, 176, 169, 169, 165, 175, 159, 151, 144, 160, 183, 165, 156, 170,\n",
    " 164, 173, 165, 163, 177, 171]\n",
    "boys"
   ]
  },
  {
   "cell_type": "code",
   "execution_count": 6,
   "metadata": {},
   "outputs": [
    {
     "name": "stdout",
     "output_type": "stream",
     "text": [
      "165.95\n"
     ]
    }
   ],
   "source": [
    "boys_mean = np.mean(boys)\n",
    "print(boys_mean)"
   ]
  },
  {
   "cell_type": "code",
   "execution_count": 9,
   "metadata": {},
   "outputs": [
    {
     "name": "stdout",
     "output_type": "stream",
     "text": [
      "165.95\n"
     ]
    }
   ],
   "source": [
    "boys_mean_sta = sta.mean(boys)\n",
    "print(boys_mean_sta)"
   ]
  },
  {
   "cell_type": "code",
   "execution_count": 11,
   "metadata": {},
   "outputs": [
    {
     "name": "stdout",
     "output_type": "stream",
     "text": [
      "ModeResult(mode=array([165]), count=array([3]))\n"
     ]
    }
   ],
   "source": [
    "boys_mode = stats.mode(boys)\n",
    "print(boys_mode)"
   ]
  },
  {
   "cell_type": "code",
   "execution_count": 12,
   "metadata": {},
   "outputs": [
    {
     "name": "stdout",
     "output_type": "stream",
     "text": [
      "165\n"
     ]
    }
   ],
   "source": [
    "boys_mode_sta = sta.mode(boys)\n",
    "print(boys_mode_sta)"
   ]
  },
  {
   "cell_type": "code",
   "execution_count": 13,
   "metadata": {},
   "outputs": [
    {
     "name": "stdout",
     "output_type": "stream",
     "text": [
      "39\n"
     ]
    }
   ],
   "source": [
    "def rangeR(x):\n",
    "    return(max(x) - min(x))\n",
    "\n",
    "print(rangeR(boys))"
   ]
  },
  {
   "cell_type": "code",
   "execution_count": 14,
   "metadata": {},
   "outputs": [
    {
     "name": "stdout",
     "output_type": "stream",
     "text": [
      "84.89210526315789\n",
      "80.6475\n",
      "84.89210526315789\n"
     ]
    }
   ],
   "source": [
    "print(sta.variance(boys))\n",
    "print(np.var(boys))\n",
    "print(np.var(boys, ddof =1))"
   ]
  },
  {
   "cell_type": "code",
   "execution_count": 15,
   "metadata": {},
   "outputs": [
    {
     "name": "stdout",
     "output_type": "stream",
     "text": [
      "9.213691185575838\n",
      "8.980395314238677\n",
      "9.213691185575838\n"
     ]
    }
   ],
   "source": [
    "print(sta.stdev(boys))\n",
    "print(np.std(boys))\n",
    "print(np.std(boys, ddof =1))"
   ]
  },
  {
   "cell_type": "code",
   "execution_count": 19,
   "metadata": {},
   "outputs": [
    {
     "name": "stdout",
     "output_type": "stream",
     "text": [
      "159.8\n",
      "159.8\n"
     ]
    }
   ],
   "source": [
    "print(stats.scoreatpercentile(boys, 20))\n",
    "print(np.percentile(boys, 20))"
   ]
  },
  {
   "cell_type": "code",
   "execution_count": 21,
   "metadata": {},
   "outputs": [
    {
     "name": "stdout",
     "output_type": "stream",
     "text": [
      "-0.47132127317376954\n",
      "0.19395882957876331\n"
     ]
    }
   ],
   "source": [
    "print(stats.skew(boys))\n",
    "print(stats.kurtosis(boys))"
   ]
  },
  {
   "cell_type": "code",
   "execution_count": 34,
   "metadata": {},
   "outputs": [
    {
     "data": {
      "image/png": "[encoded data removed]",
      "text/plain": [
       "<Figure size 432x288 with 1 Axes>"
      ]
     },
     "metadata": {
      "needs_background": "light"
     },
     "output_type": "display_data"
    }
   ],
   "source": [
    "plt.hist(boys, bins = 40, alpha = 0.5,label = 'count')\n",
    "plt.title('boys hist, skew = {0}, kurtosis = {1}'.format(round(stats.skew(boys), 2), round(stats.kurtosis(boys), 2)))\n",
    "plt.axvline(np.mean(boys), color = 'r', linestyle = '--', label = 'mean')\n",
    "plt.legend()\n",
    "plt.show()"
   ]
  },
  {
   "cell_type": "code",
   "execution_count": null,
   "metadata": {},
   "outputs": [],
   "source": []
  }
 ],
 "metadata": {
  "kernelspec": {
   "display_name": "Python 3",
   "language": "python",
   "name": "python3"
  },
  "language_info": {
   "codemirror_mode": {
    "name": "ipython",
    "version": 3
   },
   "file_extension": ".py",
   "mimetype": "text/x-python",
   "name": "python",
   "nbconvert_exporter": "python",
   "pygments_lexer": "ipython3",
   "version": "3.7.4"
  },
  "toc": {
   "base_numbering": 1,
   "nav_menu": {},
   "number_sections": true,
   "sideBar": true,
   "skip_h1_title": false,
   "title_cell": "Table of Contents",
   "title_sidebar": "Contents",
   "toc_cell": false,
   "toc_position": {},
   "toc_section_display": true,
   "toc_window_display": false
  }
 },
 "nbformat": 4,
 "nbformat_minor": 2
}

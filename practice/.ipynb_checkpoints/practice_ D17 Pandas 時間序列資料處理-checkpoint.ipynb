{
 "cells": [
  {
   "cell_type": "code",
   "execution_count": 1,
   "metadata": {},
   "outputs": [],
   "source": [
    "import numpy as np\n",
    "import pandas as pd"
   ]
  },
  {
   "cell_type": "code",
   "execution_count": 9,
   "metadata": {},
   "outputs": [
    {
     "data": {
      "text/plain": [
       "DatetimeIndex(['2021-06-10 11:00:00', '2021-06-11 11:00:00',\n",
       "               '2021-06-12 11:00:00', '2021-06-13 11:00:00',\n",
       "               '2021-06-14 11:00:00', '2021-06-15 11:00:00'],\n",
       "              dtype='datetime64[ns]', freq='D')"
      ]
     },
     "execution_count": 9,
     "metadata": {},
     "output_type": "execute_result"
    }
   ],
   "source": [
    "time = pd.date_range('2021-06-10 11:00', freq = 'D', periods = 6)\n",
    "time"
   ]
  },
  {
   "cell_type": "code",
   "execution_count": 12,
   "metadata": {},
   "outputs": [
    {
     "data": {
      "text/plain": [
       "PeriodIndex(['2021-06', '2021-07', '2021-08', '2021-09', '2021-10', '2021-11',\n",
       "             '2021-12'],\n",
       "            dtype='period[M]', freq='M')"
      ]
     },
     "execution_count": 12,
     "metadata": {},
     "output_type": "execute_result"
    }
   ],
   "source": [
    "time2 = pd.period_range('2021-6-11', freq = 'M', periods = 7)\n",
    "time2"
   ]
  },
  {
   "cell_type": "code",
   "execution_count": 15,
   "metadata": {},
   "outputs": [
    {
     "data": {
      "text/plain": [
       "PeriodIndex(['2021-05-31/2021-06-06', '2021-06-07/2021-06-13',\n",
       "             '2021-06-14/2021-06-20', '2021-06-21/2021-06-27',\n",
       "             '2021-06-28/2021-07-04'],\n",
       "            dtype='period[W-SUN]', freq='W-SUN')"
      ]
     },
     "execution_count": 15,
     "metadata": {},
     "output_type": "execute_result"
    }
   ],
   "source": [
    "time3 = pd.period_range('2021-06', freq = 'W-SUN', periods = 5)\n",
    "time3"
   ]
  },
  {
   "cell_type": "code",
   "execution_count": 17,
   "metadata": {},
   "outputs": [
    {
     "data": {
      "text/plain": [
       "DatetimeIndex(['2021-06-06', '2021-06-13', '2021-06-20', '2021-06-27',\n",
       "               '2021-07-04'],\n",
       "              dtype='datetime64[ns]', freq='W-SUN')"
      ]
     },
     "execution_count": 17,
     "metadata": {},
     "output_type": "execute_result"
    }
   ],
   "source": [
    "time4 = pd.date_range('2021-06', freq = 'W-SUN', periods = 5)\n",
    "time4"
   ]
  },
  {
   "cell_type": "code",
   "execution_count": 18,
   "metadata": {},
   "outputs": [
    {
     "data": {
      "text/plain": [
       "2021    1\n",
       "2022    2\n",
       "2023    3\n",
       "2024    4\n",
       "2025    5\n",
       "Freq: A-DEC, dtype: int64"
      ]
     },
     "execution_count": 18,
     "metadata": {},
     "output_type": "execute_result"
    }
   ],
   "source": [
    "df = pd.Series([1,2,3,4,5], index = pd.period_range('2021-01-01', freq = 'Y', periods = 5))\n",
    "df"
   ]
  },
  {
   "cell_type": "code",
   "execution_count": 21,
   "metadata": {},
   "outputs": [
    {
     "data": {
      "text/plain": [
       "2021Q1    1.0\n",
       "2021Q2    NaN\n",
       "2021Q3    NaN\n",
       "2021Q4    NaN\n",
       "2022Q1    2.0\n",
       "2022Q2    NaN\n",
       "2022Q3    NaN\n",
       "2022Q4    NaN\n",
       "2023Q1    3.0\n",
       "2023Q2    NaN\n",
       "2023Q3    NaN\n",
       "2023Q4    NaN\n",
       "2024Q1    4.0\n",
       "2024Q2    NaN\n",
       "2024Q3    NaN\n",
       "2024Q4    NaN\n",
       "2025Q1    5.0\n",
       "2025Q2    NaN\n",
       "2025Q3    NaN\n",
       "2025Q4    NaN\n",
       "Freq: Q-DEC, dtype: float64"
      ]
     },
     "execution_count": 21,
     "metadata": {},
     "output_type": "execute_result"
    }
   ],
   "source": [
    "df.resample('Q', convention = 'start').asfreq()"
   ]
  },
  {
   "cell_type": "code",
   "execution_count": 26,
   "metadata": {},
   "outputs": [
    {
     "data": {
      "text/plain": [
       "2021Q1    1.0\n",
       "2021Q3    NaN\n",
       "2022Q1    2.0\n",
       "2022Q3    NaN\n",
       "2023Q1    3.0\n",
       "2023Q3    NaN\n",
       "2024Q1    4.0\n",
       "2024Q3    NaN\n",
       "2025Q1    5.0\n",
       "2025Q3    NaN\n",
       "Freq: 2Q-DEC, dtype: float64"
      ]
     },
     "execution_count": 26,
     "metadata": {},
     "output_type": "execute_result"
    }
   ],
   "source": [
    "df.resample('2Q',closed = 'left', label = 'left').asfreq()"
   ]
  },
  {
   "cell_type": "code",
   "execution_count": 29,
   "metadata": {},
   "outputs": [
    {
     "data": {
      "text/plain": [
       "2021Q4    1.0\n",
       "2022Q1    NaN\n",
       "2022Q2    NaN\n",
       "2022Q3    NaN\n",
       "2022Q4    2.0\n",
       "2023Q1    NaN\n",
       "2023Q2    NaN\n",
       "2023Q3    NaN\n",
       "2023Q4    3.0\n",
       "2024Q1    NaN\n",
       "2024Q2    NaN\n",
       "2024Q3    NaN\n",
       "2024Q4    4.0\n",
       "2025Q1    NaN\n",
       "2025Q2    NaN\n",
       "2025Q3    NaN\n",
       "2025Q4    5.0\n",
       "Freq: Q-DEC, dtype: float64"
      ]
     },
     "execution_count": 29,
     "metadata": {},
     "output_type": "execute_result"
    }
   ],
   "source": [
    "dfQ = df.resample('Q', convention = 'end').asfreq()\n",
    "dfQ"
   ]
  },
  {
   "cell_type": "code",
   "execution_count": 31,
   "metadata": {},
   "outputs": [
    {
     "data": {
      "text/plain": [
       "2021Q4    1.0\n",
       "2022Q1    NaN\n",
       "2022Q2    NaN\n",
       "2022Q3    NaN\n",
       "2022Q4    2.0\n",
       "Freq: Q-DEC, dtype: float64"
      ]
     },
     "execution_count": 31,
     "metadata": {},
     "output_type": "execute_result"
    }
   ],
   "source": [
    "dfQ['2021Q4':'2022Q4']"
   ]
  },
  {
   "cell_type": "code",
   "execution_count": 33,
   "metadata": {},
   "outputs": [
    {
     "data": {
      "text/plain": [
       "2021-06-01     0\n",
       "2021-06-02     1\n",
       "2021-06-03     2\n",
       "2021-06-04     3\n",
       "2021-06-05     4\n",
       "2021-06-06     5\n",
       "2021-06-07     6\n",
       "2021-06-08     7\n",
       "2021-06-09     8\n",
       "2021-06-10     9\n",
       "2021-06-11    10\n",
       "2021-06-12    11\n",
       "Freq: D, dtype: int64"
      ]
     },
     "execution_count": 33,
     "metadata": {},
     "output_type": "execute_result"
    }
   ],
   "source": [
    "pp = pd.Series(np.arange(12), index = pd.period_range('2021-06-01', freq= 'D', periods = 12))\n",
    "pp"
   ]
  },
  {
   "cell_type": "code",
   "execution_count": 37,
   "metadata": {},
   "outputs": [
    {
     "data": {
      "text/plain": [
       "2021-05-30     0\n",
       "2021-05-31     1\n",
       "2021-06-01     2\n",
       "2021-06-02     3\n",
       "2021-06-03     4\n",
       "2021-06-04     5\n",
       "2021-06-05     6\n",
       "2021-06-06     7\n",
       "2021-06-07     8\n",
       "2021-06-08     9\n",
       "2021-06-09    10\n",
       "2021-06-10    11\n",
       "Freq: D, dtype: int64"
      ]
     },
     "execution_count": 37,
     "metadata": {},
     "output_type": "execute_result"
    }
   ],
   "source": [
    "pp.shift(-2, freq = 'D')"
   ]
  },
  {
   "cell_type": "code",
   "execution_count": null,
   "metadata": {},
   "outputs": [],
   "source": []
  }
 ],
 "metadata": {
  "kernelspec": {
   "display_name": "Python 3",
   "language": "python",
   "name": "python3"
  },
  "language_info": {
   "codemirror_mode": {
    "name": "ipython",
    "version": 3
   },
   "file_extension": ".py",
   "mimetype": "text/x-python",
   "name": "python",
   "nbconvert_exporter": "python",
   "pygments_lexer": "ipython3",
   "version": "3.7.4"
  },
  "toc": {
   "base_numbering": 1,
   "nav_menu": {},
   "number_sections": true,
   "sideBar": true,
   "skip_h1_title": false,
   "title_cell": "Table of Contents",
   "title_sidebar": "Contents",
   "toc_cell": false,
   "toc_position": {},
   "toc_section_display": true,
   "toc_window_display": false
  }
 },
 "nbformat": 4,
 "nbformat_minor": 2
}
